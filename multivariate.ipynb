{
 "cells": [
  {
   "cell_type": "code",
   "execution_count": 2,
   "metadata": {},
   "outputs": [],
   "source": [
    "import sys\n",
    "import numpy as np\n",
    "import xarray as xr\n",
    "import pandas as pd\n",
    "import geopandas as gpd\n",
    "import cartopy.crs as ccrs\n",
    "import matplotlib.pyplot as plt\n",
    "from datetime import datetime\n",
    "from sklearn.cluster import KMeans\n",
    "from sklearn import decomposition\n",
    "from sklearn.manifold import TSNE\n",
    "\n",
    "lambert_crs = ccrs.LambertConformal(\n",
    "    central_longitude=-107.0,\n",
    "    central_latitude=50.0,\n",
    "    standard_parallels=[50.0, 50.0],\n",
    "    false_easting=5632642.22547,\n",
    "    false_northing=4612545.65137\n",
    ")"
   ]
  },
  {
   "cell_type": "code",
   "execution_count": 25,
   "metadata": {},
   "outputs": [],
   "source": [
    "# def subset_by_latlon(data, lon_min, lon_max, lat_min, lat_max):\n",
    "\n",
    "#     lon = data['lon']\n",
    "#     lat = data['lat']\n",
    "\n",
    "#     mask = (lon >= lon_min) & (lon <= lon_max) & (lat >= lat_min) & (lat <= lat_max)\n",
    "#     y_indices, x_indices = np.where(mask)\n",
    "\n",
    "#     x_min, x_max = x_indices.min(), x_indices.max()\n",
    "#     y_min, y_max = y_indices.min(), y_indices.max()\n",
    "\n",
    "#     subset = data.isel(x=slice(x_min, x_max + 1), y=slice(y_min, y_max + 1))\n",
    "\n",
    "#     return subset\n",
    "\n",
    "# def slice_time(dataset: xr.Dataset, time: datetime):\n",
    "#     output = dataset.sel(time=time, method=\"nearest\")\n",
    "#     return output"
   ]
  },
  {
   "cell_type": "code",
   "execution_count": null,
   "metadata": {},
   "outputs": [],
   "source": [
    "main = gpd.read_file('../data/full_globfire.shp')\n",
    "main = pd.concat([main,main.bounds], axis=1)"
   ]
  },
  {
   "cell_type": "markdown",
   "metadata": {},
   "source": [
    "A function to combine all the single-variable files from a given fire event into one file:"
   ]
  },
  {
   "cell_type": "code",
   "execution_count": 102,
   "metadata": {},
   "outputs": [],
   "source": [
    "def vertical_stack(id):\n",
    "    date = main[main['_uid_']==id]['initialdat'].values[0].astype('M8[D]').astype(str).replace('-', '')\n",
    "    id = \"{:.1f}\".format(id)\n",
    "    air = xr.open_dataset(f\"../weatherregimes/assets/air/air_{id}_{date}.nc\")\n",
    "    uwnd = xr.open_dataset(f\"../weatherregimes/assets/uwnd/uwnd_{id}_{date}.nc\")\n",
    "    vwnd = xr.open_dataset(f\"../weatherregimes/assets/vwnd/vwnd_{id}_{date}.nc\")\n",
    "    shum = xr.open_dataset(f\"../weatherregimes/assets/shum/shum_{id}_{date}.nc\")\n",
    "    omega = xr.open_dataset(f\"../weatherregimes/assets/omega/omega_{id}_{date}.nc\")\n",
    "    full = xr.merge([air,shum,omega,uwnd,vwnd]).drop_vars(['Lambert_Conformal'])\n",
    "\n",
    "    for var_name in full.data_vars:\n",
    "        var = full[var_name]\n",
    "        var.encoding['_FillValue'] = var.encoding['missing_value']\n",
    "\n",
    "    full.to_netcdf(f'../weatherregimes/assets/all/all_{id}_{date}.nc')\n",
    "    return full"
   ]
  },
  {
   "cell_type": "markdown",
   "metadata": {},
   "source": [
    "Combining the first 10 to check"
   ]
  },
  {
   "cell_type": "code",
   "execution_count": null,
   "metadata": {},
   "outputs": [],
   "source": [
    "for id in main['_uid_'][:10]:\n",
    "    try:\n",
    "        vertical_stack(id)\n",
    "    except:\n",
    "        print(\"failed\")"
   ]
  },
  {
   "cell_type": "markdown",
   "metadata": {},
   "source": [
    "Now lets combine the different events into one dataset:"
   ]
  },
  {
   "cell_type": "code",
   "execution_count": 109,
   "metadata": {},
   "outputs": [],
   "source": [
    "one = xr.open_dataset(\"/Users/eliotcarlson/Desktop/columbia/capstone/weatherregimes/assets/all/all_17.0_20020110.nc\")\n",
    "two = xr.open_dataset(\"/Users/eliotcarlson/Desktop/columbia/capstone/weatherregimes/assets/all/all_18.0_20020111.nc\")\n",
    "\n",
    "full = xr.merge([one,two])"
   ]
  },
  {
   "cell_type": "markdown",
   "metadata": {},
   "source": [
    "Here's how we put the data on the levels we care about:"
   ]
  },
  {
   "cell_type": "code",
   "execution_count": 42,
   "metadata": {},
   "outputs": [],
   "source": [
    "full = full.stack(location=('y', 'x')).sel(time=full.time[1],method=\"nearest\")\n",
    "#full = full.stack(spacetime=('y', 'x', 'time'))\n",
    "full = full.drop_vars(['Lambert_Conformal']).to_stacked_array(\"var-lvl\",sample_dims=[\"location\"])\n",
    "coordinates = full.coords\n",
    "\n",
    "X = full[~np.isnan(full).any(axis=1)]"
   ]
  },
  {
   "cell_type": "markdown",
   "metadata": {},
   "source": [
    "Playing with Dimension Reduction"
   ]
  },
  {
   "cell_type": "code",
   "execution_count": null,
   "metadata": {},
   "outputs": [],
   "source": [
    "air = xr.open_dataset(\"air.200309.nc\")\n",
    "uwnd = xr.open_dataset(\"uwnd.200309.nc\")\n",
    "vwnd = xr.open_dataset(\"vwnd.200309.nc\")\n",
    "# shum = xr.open_dataset(\"../data/NARR/shum.200009.nc\")\n",
    "omega = xr.open_dataset(\"omega.200309.nc\")\n",
    "hgt = xr.open_dataset(\"hgt.200309.nc\")\n",
    "# full = xr.merge([air,shum,omega,uwnd,vwnd])\n",
    "full = xr.merge([air,omega,hgt,uwnd])"
   ]
  },
  {
   "cell_type": "code",
   "execution_count": 46,
   "metadata": {},
   "outputs": [],
   "source": [
    "pca = decomposition.PCA(n_components=1)\n",
    "pca_result = pca.fit_transform(X.values)  # Use the raw values from the stacked array\n",
    "\n",
    "# Reconstruct as an xarray.DataArray with the original coordinates\n",
    "pca_da = xr.DataArray(\n",
    "    pca_result, \n",
    "    coords={'location': X['location'], 'component': [1]}, \n",
    "    dims=['location', 'component']\n",
    ")"
   ]
  },
  {
   "cell_type": "code",
   "execution_count": null,
   "metadata": {},
   "outputs": [],
   "source": [
    "first_pc_unstacked = pca_da.unstack('location')\n",
    "\n",
    "# Now plot the first principal component using x, y coordinates as a map\n",
    "plt.figure(figsize=(8, 6))\n",
    "first_pc_unstacked.plot(cmap='viridis')\n",
    "plt.title('First Principal Component by X, Y Coordinates')\n",
    "plt.xlabel('X Coordinate')\n",
    "plt.ylabel('Y Coordinate')\n",
    "plt.grid(True)\n",
    "plt.show()"
   ]
  },
  {
   "cell_type": "code",
   "execution_count": null,
   "metadata": {},
   "outputs": [],
   "source": [
    "fig, ax = plt.subplots(figsize=(10, 6), subplot_kw={'projection': lambert_crs})\n",
    "first_pc_unstacked.plot(ax=ax, cmap='viridis',transform=None)\n",
    "ax.coastlines(resolution='50m')\n",
    "plt.title(\"North America by Value of 1st Principle Component\")\n",
    "plt.show()"
   ]
  },
  {
   "cell_type": "code",
   "execution_count": 38,
   "metadata": {},
   "outputs": [],
   "source": [
    "pca = decomposition.PCA(n_components=2)\n",
    "pca.fit(X)\n",
    "Y = pca.transform(X)"
   ]
  },
  {
   "cell_type": "code",
   "execution_count": null,
   "metadata": {},
   "outputs": [],
   "source": [
    "full_pca = decomposition.PCA()\n",
    "full_pca.fit(X)\n",
    "\n",
    "explained_variance = full_pca.explained_variance_ratio_\n",
    "\n",
    "plt.figure(figsize=(8, 5))\n",
    "plt.plot(np.arange(1, len(explained_variance) + 1), explained_variance, 'o-', markersize=8, color='blue', label='Explained Variance')\n",
    "plt.title('Scree Plot')\n",
    "plt.xlabel('Principal Component')\n",
    "plt.ylabel('Variance Explained')\n",
    "plt.show()"
   ]
  },
  {
   "cell_type": "code",
   "execution_count": null,
   "metadata": {},
   "outputs": [],
   "source": [
    "plt.scatter(Y[:,0], Y[:,1], color='blue', marker='o')\n",
    "plt.axis('equal')\n",
    "plt.show()"
   ]
  },
  {
   "cell_type": "code",
   "execution_count": null,
   "metadata": {},
   "outputs": [],
   "source": [
    "print(pca.explained_variance_ratio_)\n",
    "print(pca.components_)"
   ]
  },
  {
   "cell_type": "code",
   "execution_count": 21,
   "metadata": {},
   "outputs": [
    {
     "data": {
      "text/plain": [
       "array([0.02300333, 0.02253702])"
      ]
     },
     "execution_count": 21,
     "metadata": {},
     "output_type": "execute_result"
    }
   ],
   "source": [
    "r = np.random.randint(0,10,size=(500,87))\n",
    "pcar = decomposition.PCA(n_components=2)\n",
    "pcar.fit(r)\n",
    "pcar.explained_variance_ratio_"
   ]
  },
  {
   "cell_type": "code",
   "execution_count": 17,
   "metadata": {},
   "outputs": [
    {
     "data": {
      "image/png": "[encoded data removed]",
      "text/plain": [
       "<Figure size 640x480 with 1 Axes>"
      ]
     },
     "metadata": {},
     "output_type": "display_data"
    }
   ],
   "source": [
    "pca_10 = decomposition.PCA(n_components=10)\n",
    "pca_10.fit(X)\n",
    "Z = pca_10.transform(X)\n",
    "tsne_result = TSNE(n_components=2, random_state=1).fit_transform(Z)\n",
    "\n",
    "plt.scatter(tsne_result[:, 0], tsne_result[:, 1], s=5, color='blue')\n",
    "plt.show()"
   ]
  }
 ],
 "metadata": {
  "kernelspec": {
   "display_name": ".venv",
   "language": "python",
   "name": "python3"
  },
  "language_info": {
   "codemirror_mode": {
    "name": "ipython",
    "version": 3
   },
   "file_extension": ".py",
   "mimetype": "text/x-python",
   "name": "python",
   "nbconvert_exporter": "python",
   "pygments_lexer": "ipython3",
   "version": "3.12.2"
  }
 },
 "nbformat": 4,
 "nbformat_minor": 2
}
